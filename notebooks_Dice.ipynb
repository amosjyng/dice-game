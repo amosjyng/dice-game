{
  "metadata": {
    "language_info": {
      "codemirror_mode": {
        "name": "python",
        "version": 3
      },
      "file_extension": ".py",
      "mimetype": "text/x-python",
      "name": "python",
      "nbconvert_exporter": "python",
      "pygments_lexer": "ipython3",
      "version": "3.8"
    },
    "kernelspec": {
      "name": "python",
      "display_name": "Python (Pyodide)",
      "language": "python"
    }
  },
  "nbformat_minor": 4,
  "nbformat": 4,
  "cells": [
    {
      "cell_type": "markdown",
      "source": "# Dice Game\n\n## Rules\n\nYou roll 5 dice. Each die is worth the number on the face, except for 3, which is worth zero.",
      "metadata": {
        "tags": []
      }
    },
    {
      "cell_type": "code",
      "source": "def worth(die):\n    return 0 if die == 3 else die\n\nassert worth(1) == 1\nassert worth(2) == 2\nassert worth(3) == 0 # 3's are worth zero\nassert worth(4) == 4\nassert worth(5) == 5\nassert worth(6) == 6",
      "metadata": {
        "trusted": true
      },
      "execution_count": 1,
      "outputs": []
    },
    {
      "cell_type": "markdown",
      "source": "The entire roll is worth the sum of each die's worth.",
      "metadata": {}
    },
    {
      "cell_type": "code",
      "source": "def worth_roll(dice):\n    return sum([worth(die) for die in dice])\n\nassert worth_roll([1]) == 1\nassert worth_roll([3, 3]) == 0\nassert worth_roll([3, 3, 5]) == 5\nassert worth_roll([1, 3, 3, 4, 5]) == 10",
      "metadata": {
        "trusted": true
      },
      "execution_count": 2,
      "outputs": []
    },
    {
      "cell_type": "markdown",
      "source": "You are trying to get the lowest roll possible. You must choose at least 1 die from every roll, but you have the option of choosing up to all the dice you just rolled. Everything else will be re-rolled.",
      "metadata": {}
    },
    {
      "cell_type": "code",
      "source": "from collections import namedtuple\nimport random\n\ndef sorted_dice(dice):\n    return sorted(dice, key=worth)\n\ndef choose_n(dice, n):\n    assert 1 <= n <= len(dice), f\"You must choose at least 1 and at most {len(dice)} dice, but you chose {n}\"\n    return sorted_dice(dice)[:n]\n\nassert choose_n([1, 3, 3, 4, 5], 1) == [3]\nassert choose_n([1, 3, 3, 4, 5], 2) == [3, 3]\nassert choose_n([1, 3, 3, 4, 5], 3) == [3, 3, 1]\nassert choose_n([1, 3, 3, 4, 5], 4) == [3, 3, 1, 4]\nassert choose_n([1, 3, 3, 4, 5], 5) == [3, 3, 1, 4, 5]\n\n\nGameConfig = namedtuple('GameConfig', ['num_dice', 'dice_faces'])\nDEFAULT_CONFIG = GameConfig(num_dice = 5, dice_faces = 6)\n\n\nclass TurnState:\n    def __init__(self, config):\n        \"\"\"num_dice and dice_faces allow for playing with a different number of dice and faces\"\"\"\n        self.finalized_dice = []\n        self.last_roll = None\n        self.config = config\n\n    def remaining_dice(self):\n        return self.config.num_dice - len(self.finalized_dice)\n\n    def is_over(self):\n        return self.remaining_dice() == 0\n    \n    def score(self):\n        return worth_roll(self.finalized_dice)\n\n    def roll(self, log=False):\n        self.last_roll = [random.randint(1, self.config.dice_faces) for _ in range(self.remaining_dice())]\n        return self.last_roll\n\n    def choose(self, n):\n        self.finalized_dice += choose_n(self.last_roll, n)\n\ntest_turn = TurnState(DEFAULT_CONFIG)\nprint(f\"We begin by rolling all 5: {test_turn.roll()}\")\ntest_turn.choose(2)\nassert test_turn.remaining_dice() == 3\nassert not test_turn.is_over()\nprint(f\"To demonstrate how this works (not what is good strategy), we pick the first two. So we have the dice {test_turn.finalized_dice}\")\nprint(f\"Then we re-roll the remaining 3 dice: {test_turn.roll()}\")\ntest_turn.choose(1)\nassert test_turn.remaining_dice() == 2\nassert not test_turn.is_over()\nprint(f\"We pick the first one and add it to our existing collection of finalized dice rolls: {test_turn.finalized_dice}\")\nprint(f\"Then we roll the remaining two dice that we didn't pick: {test_turn.roll()}\")\ntest_turn.choose(2)\nassert test_turn.remaining_dice() == 0\nassert test_turn.is_over()\nprint(f\"Let's say we pick both the final two. Now we have {test_turn.finalized_dice} and the turn is over with a final score of {test_turn.score()}\")",
      "metadata": {
        "trusted": true
      },
      "execution_count": 3,
      "outputs": [
        {
          "name": "stdout",
          "text": "We begin by rolling all 5: [2, 5, 5, 4, 2]\nTo demonstrate how this works (not what is good strategy), we pick the first two. So we have the dice [2, 2]\nThen we re-roll the remaining 3 dice: [4, 2, 2]\nWe pick the first one and add it to our existing collection of finalized dice rolls: [2, 2, 2]\nThen we roll the remaining two dice that we didn't pick: [1, 4]\nLet's say we pick both the final two. Now we have [2, 2, 2, 1, 4] and the turn is over with a final score of 11\n",
          "output_type": "stream"
        }
      ]
    },
    {
      "cell_type": "markdown",
      "source": "Every player keeps rolling until their turn is finished. The player with the lowest final score wins the round.\n\nHere's a full round played out as a demonstration:",
      "metadata": {}
    },
    {
      "cell_type": "code",
      "source": "import sys\n\nLOG_GAMEPLAY = False\n\n\ndef log(output):\n    if LOG_GAMEPLAY:\n        print(output)\n\n\nclass RoundState:\n    \"\"\"The current state of the round being played\"\"\"\n\n    def __init__(self, players, config):\n        self.lowest_score = sys.maxsize  # lowest scoring player(s) win\n        self.winning_players = []\n        self.turns_so_far = 0\n        self.players = players\n        self.config = config\n        \n        log(f\"Starting round with {self.num_players()} players\")\n\n    def num_players(self):\n        return len(self.players)\n    \n    def players_remaining(self):\n        \"\"\"How many players have yet to play in this round\"\"\"\n        return self.num_players() - self.turns_so_far\n        \n    def record_score(self, n, player):\n        if n < self.lowest_score:\n            self.lowest_score = n\n            self.winning_players = [player]\n            log(f\"{player.name} is now winning with a score of {n}\")\n        elif n == self.lowest_score:\n            self.winning_players.append(player)\n            log(f\"{player.name} is tied for a win with a score of {n}\")\n        else:\n            log(f\"{player.name} lost with a score of {n}\")\n        \n        self.turns_so_far += 1\n    \n    def play(self):\n        for player in self.players:\n            player.start_turn(self)\n            player.play()\n        \n        winner_names = \" and \".join([p.name for p in self.winning_players])\n        log(f\"{winner_names} won with a score of {self.lowest_score}\")\n\n\nclass Player:\n    def __init__(self, name):\n        self.name = name\n        self.round = None\n        self.turn = None\n\n    def start_turn(self, round_state):\n        self.round = round_state\n        self.turn = TurnState(self.round.config)\n        log(f\"{self.name} starting turn\")\n\n    def choose_n(self):\n        \"\"\"\n        This function is called after the remaining dice have been rolled. It should return how\n        many of them you'd like to keep\n        \"\"\"\n        pass\n\n    def play(self):\n        \"\"\"Automatically plays the entire round\"\"\"\n        while not self.turn.is_over():\n            self.turn.roll()\n            log(f\"{self.name} rolled {self.turn.last_roll}\")\n            n = self.choose_n()\n            self.turn.choose(n)\n            log(f\"{self.name} chose to keep {n} dice. Finalized dice: {self.turn.finalized_dice}. Running score: {self.turn.score()}\")\n\n        self.round.record_score(self.turn.score(), self)\n    \n    @classmethod\n    def create(cls, n):\n        \"\"\"Create n instances of this kind of player\"\"\"\n        return [cls(f\"{cls.__name__} {i+1}\") for i in range(n)]\n\nclass RandomBot(Player):    \n    def choose_n(self):\n        return random.randint(1, self.turn.remaining_dice())\n\n\nLOG_GAMEPLAY = True\nRoundState(RandomBot.create(3), DEFAULT_CONFIG).play()",
      "metadata": {
        "trusted": true
      },
      "execution_count": 4,
      "outputs": [
        {
          "name": "stdout",
          "text": "Starting round with 3 players\nRandomBot 1 starting turn\nRandomBot 1 rolled [5, 5, 5, 3, 2]\nRandomBot 1 chose to keep 5 dice. Finalized dice: [3, 2, 5, 5, 5]. Running score: 17\nRandomBot 1 is now winning with a score of 17\nRandomBot 2 starting turn\nRandomBot 2 rolled [6, 1, 5, 3, 1]\nRandomBot 2 chose to keep 5 dice. Finalized dice: [3, 1, 1, 5, 6]. Running score: 13\nRandomBot 2 is now winning with a score of 13\nRandomBot 3 starting turn\nRandomBot 3 rolled [4, 6, 2, 2, 6]\nRandomBot 3 chose to keep 5 dice. Finalized dice: [2, 2, 4, 6, 6]. Running score: 20\nRandomBot 3 lost with a score of 20\nRandomBot 2 won with a score of 13\n",
          "output_type": "stream"
        }
      ]
    },
    {
      "cell_type": "markdown",
      "source": "## Strategy\n\n### Keeping only 3's\n\nAn obvious improvement on the random strategy is to only ever keep 3's, unless there are no 3's, in which case the player only keeps the one lowest die.",
      "metadata": {}
    },
    {
      "cell_type": "code",
      "source": "class Only3sBot(Player):    \n    def choose_n(self):\n        return Only3sBot.choose_n_strategy(self.turn.last_roll)\n    \n    @staticmethod\n    def choose_n_strategy(last_roll):\n        num_3s = last_roll.count(3)\n        return max(num_3s, 1)\n\n    \nassert Only3sBot.choose_n_strategy([1, 2, 3, 4, 6]) == 1\nassert Only3sBot.choose_n_strategy([1, 2, 3, 3, 6]) == 2\nassert Only3sBot.choose_n_strategy([3, 3, 3, 3, 3]) == 5\n# we always have to choose at least 1 die, even if every single one is horrible\nassert Only3sBot.choose_n_strategy([6, 6, 6, 6, 6]) == 1",
      "metadata": {
        "trusted": true
      },
      "execution_count": 5,
      "outputs": []
    },
    {
      "cell_type": "markdown",
      "source": "Let's see it in action:",
      "metadata": {}
    },
    {
      "cell_type": "code",
      "source": "RoundState(Only3sBot.create(3), DEFAULT_CONFIG).play()",
      "metadata": {
        "trusted": true
      },
      "execution_count": 6,
      "outputs": [
        {
          "name": "stdout",
          "text": "Starting round with 3 players\nOnly3sBot 1 starting turn\nOnly3sBot 1 rolled [4, 4, 2, 1, 1]\nOnly3sBot 1 chose to keep 1 dice. Finalized dice: [1]. Running score: 1\nOnly3sBot 1 rolled [1, 1, 5, 5]\nOnly3sBot 1 chose to keep 1 dice. Finalized dice: [1, 1]. Running score: 2\nOnly3sBot 1 rolled [5, 4, 3]\nOnly3sBot 1 chose to keep 1 dice. Finalized dice: [1, 1, 3]. Running score: 2\nOnly3sBot 1 rolled [6, 5]\nOnly3sBot 1 chose to keep 1 dice. Finalized dice: [1, 1, 3, 5]. Running score: 7\nOnly3sBot 1 rolled [1]\nOnly3sBot 1 chose to keep 1 dice. Finalized dice: [1, 1, 3, 5, 1]. Running score: 8\nOnly3sBot 1 is now winning with a score of 8\nOnly3sBot 2 starting turn\nOnly3sBot 2 rolled [6, 3, 1, 1, 3]\nOnly3sBot 2 chose to keep 2 dice. Finalized dice: [3, 3]. Running score: 0\nOnly3sBot 2 rolled [4, 1, 1]\nOnly3sBot 2 chose to keep 1 dice. Finalized dice: [3, 3, 1]. Running score: 1\nOnly3sBot 2 rolled [5, 1]\nOnly3sBot 2 chose to keep 1 dice. Finalized dice: [3, 3, 1, 1]. Running score: 2\nOnly3sBot 2 rolled [2]\nOnly3sBot 2 chose to keep 1 dice. Finalized dice: [3, 3, 1, 1, 2]. Running score: 4\nOnly3sBot 2 is now winning with a score of 4\nOnly3sBot 3 starting turn\nOnly3sBot 3 rolled [6, 1, 5, 4, 3]\nOnly3sBot 3 chose to keep 1 dice. Finalized dice: [3]. Running score: 0\nOnly3sBot 3 rolled [5, 4, 1, 6]\nOnly3sBot 3 chose to keep 1 dice. Finalized dice: [3, 1]. Running score: 1\nOnly3sBot 3 rolled [6, 6, 4]\nOnly3sBot 3 chose to keep 1 dice. Finalized dice: [3, 1, 4]. Running score: 5\nOnly3sBot 3 rolled [5, 2]\nOnly3sBot 3 chose to keep 1 dice. Finalized dice: [3, 1, 4, 2]. Running score: 7\nOnly3sBot 3 rolled [3]\nOnly3sBot 3 chose to keep 1 dice. Finalized dice: [3, 1, 4, 2, 3]. Running score: 7\nOnly3sBot 3 lost with a score of 7\nOnly3sBot 2 won with a score of 4\n",
          "output_type": "stream"
        }
      ]
    },
    {
      "cell_type": "markdown",
      "source": "The only way to be sure it's actually an improvement over `RandomBot` is to get them to play lots of rounds against each other, repeatedly:",
      "metadata": {}
    },
    {
      "cell_type": "code",
      "source": "class Game:\n    def __init__(self, players, config):\n        self.players = players\n        self.config = config\n        self.wins = { p:0 for p in players }\n    \n    def play(self, num_rounds):\n        for _ in range(num_rounds):\n            new_round = RoundState(self.players, self.config)\n            new_round.play()\n            for winner in new_round.winning_players:\n                self.wins[winner] += 1\n        \n        print(f\"Played {num_rounds} rounds\")\n        best_players = sorted(self.players, key=lambda p: self.wins[p], reverse=True)\n        for player in best_players:\n            print(f\"{player.name} won {self.wins[player]} rounds\")\n\n\nLOG_GAMEPLAY = False\nGame(RandomBot.create(3) + Only3sBot.create(3), DEFAULT_CONFIG).play(num_rounds=1000)",
      "metadata": {
        "trusted": true
      },
      "execution_count": 7,
      "outputs": [
        {
          "name": "stdout",
          "text": "Played 1000 rounds\nOnly3sBot 1 won 332 rounds\nOnly3sBot 2 won 316 rounds\nOnly3sBot 3 won 313 rounds\nRandomBot 2 won 84 rounds\nRandomBot 1 won 80 rounds\nRandomBot 3 won 75 rounds\n",
          "output_type": "stream"
        }
      ]
    },
    {
      "cell_type": "markdown",
      "source": "### Even Better Strategies\n\nAs the number of players approaches infinity, someone is guaranteed to end up with all 3's, and so the only 3's strategy becomes optimal. But as the number of players approaches zero, sometimes it's worth keeping other numbers in addition to 3. For example, in the case where there's zero players left because you're the very last player, it's obviously better to stop rolling as soon as you win, even if you win with some suboptimal 1's and 2's in your roll.\n\nBut the question is, when exactly does this happen? Intuition tells us that we have to balance out the risk of ending up with a higher roll than we have now, with the risk of someone after us ending up with a lower roll than we have now.",
      "metadata": {}
    },
    {
      "cell_type": "code",
      "source": "class DiceCalculator:\n    def __init__(self, config, debug=True):\n        self.config = config\n        self.debug = debug\n\n    def _debug(self, indent, message):\n        if self.debug:\n            indent_str = \"  \" * indent\n            print(indent_str + message)\n    \n    def _roll_key(self, roll):\n        return \" \".join([str(x) for x in sorted_dice(roll)])\n\n    def _rolls(self, dice_remaining):\n        if dice_remaining == 0:\n            yield []\n        else:\n            for first_die in range(1, self.config.dice_faces + 1):\n                for subsequent_dice in self._rolls(dice_remaining - 1):\n                    yield [first_die] + subsequent_dice\n    \n    def _possible_cuts(self, roll):\n        ordered_roll = sorted_dice(roll)\n        sorted_values = [worth(die) for die in ordered_roll]\n        for cut in range(1, len(roll) + 1):\n            taken = ordered_roll[:cut]\n            # sum the value of the dice we keep\n            taken_value = sum(sorted_values[:cut])\n            # as for the rest, only their count matters because we're rerolling\n            reroll_count = len(roll) - cut\n            yield taken, taken_value, reroll_count\n\nclass ExpectationCalculator(DiceCalculator):\n    def __init__(self, config):\n        super().__init__(config)\n        self._num_cache = {}\n        self._roll_cache = {}\n    \n    def expectation_roll(self, roll, indent=0):\n        if not roll:\n            return 0\n\n        cache = self._roll_cache\n        roll_key = self._roll_key(roll)\n        if roll_key in cache:\n            result = cache[roll_key]\n            self._debug(indent, f\"We already know the roll {roll} = {roll_key} expects {result}\")\n            return result\n        \n        self._debug(indent, f\"Finding expected result of rolling {roll}\")\n        result = None\n        \n        decision_values = []\n        for taken, taken_value, reroll_count in self._possible_cuts(roll):\n            # find the expectation value of rerolling the rest of the dice\n            expected_reroll_value = self.expectation(reroll_count, indent + 1)\n            expected_total = taken_value + expected_reroll_value\n            self._debug(\n                indent + 1,\n                f\"Taking {taken} and rolling {reroll_count} dice expects {expected_total}\"\n            )\n            decision_values.append(expected_total)\n        # we make the decision that results in the best expected payoff\n        result = min(decision_values)\n        cache[roll_key] = result\n        self._debug(indent, f\"We now know the roll {roll} = {roll_key} expects {result}\")\n        return result\n    \n    def expectation(self, num_dice, indent=0):\n        if num_dice == 0:\n            return 0\n\n        cache = self._num_cache\n        if num_dice in cache:\n            result = cache[num_dice]\n            #self._debug(indent, f\"We already know rolling {num_dice} fresh dice expects {result}\")\n            return result\n        \n        self._debug(indent, f\"Finding expected result of rolling {num_dice} fresh dice\")\n\n        total = 0\n        count = 0\n        for roll in self._rolls(num_dice):\n            total += self.expectation_roll(roll, indent + 1)\n            count += 1\n        result = total / count\n        \n        cache[num_dice] = result\n        self._debug(indent, f\"We now know rolling {num_dice} fresh dice has an expected score of {result}\")\n        return result\n\n\nexpectations = ExpectationCalculator(DEFAULT_CONFIG)\nassert expectations.expectation(num_dice=0) == 0  # no dice contributes no score\nassert expectations.expectation(num_dice=1) == 3  # sum 1 - 6, minus 3, divide by 6",
      "metadata": {
        "trusted": true
      },
      "execution_count": 8,
      "outputs": [
        {
          "name": "stdout",
          "text": "Finding expected result of rolling 1 fresh dice\n  Finding expected result of rolling [1]\n    Taking [1] and rolling 0 dice expects 1\n  We now know the roll [1] = 1 expects 1\n  Finding expected result of rolling [2]\n    Taking [2] and rolling 0 dice expects 2\n  We now know the roll [2] = 2 expects 2\n  Finding expected result of rolling [3]\n    Taking [3] and rolling 0 dice expects 0\n  We now know the roll [3] = 3 expects 0\n  Finding expected result of rolling [4]\n    Taking [4] and rolling 0 dice expects 4\n  We now know the roll [4] = 4 expects 4\n  Finding expected result of rolling [5]\n    Taking [5] and rolling 0 dice expects 5\n  We now know the roll [5] = 5 expects 5\n  Finding expected result of rolling [6]\n    Taking [6] and rolling 0 dice expects 6\n  We now know the roll [6] = 6 expects 6\nWe now know rolling 1 fresh dice has an expected score of 3.0\n",
          "output_type": "stream"
        }
      ]
    },
    {
      "cell_type": "markdown",
      "source": "We can see that if you're just trying to minimize your expected total value (e.g. when you're setting the record and there's people after you), it can make sense to take a 1 die, but not a 2 die. The same goes for taking multiple 1 die:",
      "metadata": {}
    },
    {
      "cell_type": "code",
      "source": "expectations.debug = False\nassert expectations.expectation_roll([1, 6]) == 4  # 1 + expected value of rolling 1 die\nassert round(expectations.expectation(2), 2) == 4.39\nassert expectations.expectation_roll([1, 1, 6]) == 5\nassert round(expectations.expectation(3), 2) == 5.23",
      "metadata": {
        "trusted": true
      },
      "execution_count": 9,
      "outputs": []
    },
    {
      "cell_type": "markdown",
      "source": "However, the game punishes you just as much for losing by a little as it does for losing by a lot. So if you're not the record setter, then you really only care about maximizing the likelihood of beating someone else's low score, not minimizing your own expected score. For example, to beat a score of 2 with potentially 2 remaining rolls:",
      "metadata": {}
    },
    {
      "cell_type": "code",
      "source": "def percentage(p):\n    return \"{:.2f}%\".format(round(p, 4) * 100)\n\n\nclass ProbabilityCalculator(DiceCalculator):\n    def __init__(self, config):\n        super().__init__(config)\n        self._p_num_cache = {}\n        self._p_roll_cache = {}\n\n    def p_beat_with_roll(self, goal, roll, indent=0):\n        if goal <= 0:  # impossible to beat a goal of zero\n            return 0\n        if not roll:  # impossible to lose with no more rolls left to go\n            return 1\n        \n        cache = self._p_roll_cache\n        ordered_roll_str = self._roll_key(roll)\n        roll_key = f\"{ordered_roll_str} < {goal}\"\n        if roll_key in cache:\n            result = cache[roll_key]\n            self._debug(indent, f\"We already know the roll {roll} => {roll_key} has {result} chance to win\")\n            return result\n        \n        self._debug(indent, f\"Finding probability of winning {roll} => {roll_key}\")\n        decision_values = []\n        for taken, taken_value, reroll_count in self._possible_cuts(roll):\n            # find the expectation value of rerolling under the new taken value\n            p_beat_on_reroll = self.p_beat(goal - taken_value, reroll_count, indent + 1)\n            self._debug(\n                indent + 1,\n                f\"Taking {taken} and rolling {reroll_count} dice has {p_beat_on_reroll} chance to win\"\n            )\n            decision_values.append(p_beat_on_reroll)\n        \n        result = max(decision_values)\n        cache[roll_key] = result\n        self._debug(indent, f\"We now know the roll {roll} => {roll_key} has {result} chance to win\")\n        return result\n    \n    def p_beat(self, goal, num_dice, indent=0):\n        if goal <= 0:\n            return 0\n        if num_dice == 0:\n            return 1\n        \n        cache = self._p_num_cache\n        num_key = f\"{num_dice} fresh dice < {goal}\"\n        if num_key in cache:\n            result = cache[num_key]\n            return result\n        \n        self._debug(indent, f\"Finding probability of winning {num_key}\")\n\n        total = 0\n        count = 0\n        for roll in self._rolls(num_dice):\n            total += self.p_beat_with_roll(goal, roll, indent + 1)\n            count += 1\n        result = total / count\n        \n        cache[num_key] = result\n        self._debug(indent, f\"We now know probability of winning {num_key} is {result}\")\n        return result\n\nprobability = ProbabilityCalculator(DEFAULT_CONFIG)\nassert percentage(probability.p_beat(2, 1)) == \"33.33%\"\nassert percentage(probability.p_beat_with_roll(3, [3, 1, 6])) == \"35.65%\"",
      "metadata": {
        "trusted": true
      },
      "execution_count": 10,
      "outputs": [
        {
          "name": "stdout",
          "text": "Finding probability of winning 1 fresh dice < 2\n  Finding probability of winning [1] => 1 < 2\n    Taking [1] and rolling 0 dice has 1 chance to win\n  We now know the roll [1] => 1 < 2 has 1 chance to win\n  Finding probability of winning [2] => 2 < 2\n    Taking [2] and rolling 0 dice has 0 chance to win\n  We now know the roll [2] => 2 < 2 has 0 chance to win\n  Finding probability of winning [3] => 3 < 2\n    Taking [3] and rolling 0 dice has 1 chance to win\n  We now know the roll [3] => 3 < 2 has 1 chance to win\n  Finding probability of winning [4] => 4 < 2\n    Taking [4] and rolling 0 dice has 0 chance to win\n  We now know the roll [4] => 4 < 2 has 0 chance to win\n  Finding probability of winning [5] => 5 < 2\n    Taking [5] and rolling 0 dice has 0 chance to win\n  We now know the roll [5] => 5 < 2 has 0 chance to win\n  Finding probability of winning [6] => 6 < 2\n    Taking [6] and rolling 0 dice has 0 chance to win\n  We now know the roll [6] => 6 < 2 has 0 chance to win\nWe now know probability of winning 1 fresh dice < 2 is 0.3333333333333333\nFinding probability of winning [3, 1, 6] => 3 1 6 < 3\n  Finding probability of winning 2 fresh dice < 3\n    Finding probability of winning [1, 1] => 1 1 < 3\n      Taking [1] and rolling 1 dice has 0.3333333333333333 chance to win\n      Taking [1, 1] and rolling 0 dice has 1 chance to win\n    We now know the roll [1, 1] => 1 1 < 3 has 1 chance to win\n    Finding probability of winning [1, 2] => 1 2 < 3\n      Taking [1] and rolling 1 dice has 0.3333333333333333 chance to win\n      Taking [1, 2] and rolling 0 dice has 0 chance to win\n    We now know the roll [1, 2] => 1 2 < 3 has 0.3333333333333333 chance to win\n    Finding probability of winning [1, 3] => 3 1 < 3\n      Finding probability of winning 1 fresh dice < 3\n        Finding probability of winning [1] => 1 < 3\n          Taking [1] and rolling 0 dice has 1 chance to win\n        We now know the roll [1] => 1 < 3 has 1 chance to win\n        Finding probability of winning [2] => 2 < 3\n          Taking [2] and rolling 0 dice has 1 chance to win\n        We now know the roll [2] => 2 < 3 has 1 chance to win\n        Finding probability of winning [3] => 3 < 3\n          Taking [3] and rolling 0 dice has 1 chance to win\n        We now know the roll [3] => 3 < 3 has 1 chance to win\n        Finding probability of winning [4] => 4 < 3\n          Taking [4] and rolling 0 dice has 0 chance to win\n        We now know the roll [4] => 4 < 3 has 0 chance to win\n        Finding probability of winning [5] => 5 < 3\n          Taking [5] and rolling 0 dice has 0 chance to win\n        We now know the roll [5] => 5 < 3 has 0 chance to win\n        Finding probability of winning [6] => 6 < 3\n          Taking [6] and rolling 0 dice has 0 chance to win\n        We now know the roll [6] => 6 < 3 has 0 chance to win\n      We now know probability of winning 1 fresh dice < 3 is 0.5\n      Taking [3] and rolling 1 dice has 0.5 chance to win\n      Taking [3, 1] and rolling 0 dice has 1 chance to win\n    We now know the roll [1, 3] => 3 1 < 3 has 1 chance to win\n    Finding probability of winning [1, 4] => 1 4 < 3\n      Taking [1] and rolling 1 dice has 0.3333333333333333 chance to win\n      Taking [1, 4] and rolling 0 dice has 0 chance to win\n    We now know the roll [1, 4] => 1 4 < 3 has 0.3333333333333333 chance to win\n    Finding probability of winning [1, 5] => 1 5 < 3\n      Taking [1] and rolling 1 dice has 0.3333333333333333 chance to win\n      Taking [1, 5] and rolling 0 dice has 0 chance to win\n    We now know the roll [1, 5] => 1 5 < 3 has 0.3333333333333333 chance to win\n    Finding probability of winning [1, 6] => 1 6 < 3\n      Taking [1] and rolling 1 dice has 0.3333333333333333 chance to win\n      Taking [1, 6] and rolling 0 dice has 0 chance to win\n    We now know the roll [1, 6] => 1 6 < 3 has 0.3333333333333333 chance to win\n    We already know the roll [2, 1] => 1 2 < 3 has 0.3333333333333333 chance to win\n    Finding probability of winning [2, 2] => 2 2 < 3\n      Finding probability of winning 1 fresh dice < 1\n        Finding probability of winning [1] => 1 < 1\n          Taking [1] and rolling 0 dice has 0 chance to win\n        We now know the roll [1] => 1 < 1 has 0 chance to win\n        Finding probability of winning [2] => 2 < 1\n          Taking [2] and rolling 0 dice has 0 chance to win\n        We now know the roll [2] => 2 < 1 has 0 chance to win\n        Finding probability of winning [3] => 3 < 1\n          Taking [3] and rolling 0 dice has 1 chance to win\n        We now know the roll [3] => 3 < 1 has 1 chance to win\n        Finding probability of winning [4] => 4 < 1\n          Taking [4] and rolling 0 dice has 0 chance to win\n        We now know the roll [4] => 4 < 1 has 0 chance to win\n        Finding probability of winning [5] => 5 < 1\n          Taking [5] and rolling 0 dice has 0 chance to win\n        We now know the roll [5] => 5 < 1 has 0 chance to win\n        Finding probability of winning [6] => 6 < 1\n          Taking [6] and rolling 0 dice has 0 chance to win\n        We now know the roll [6] => 6 < 1 has 0 chance to win\n      We now know probability of winning 1 fresh dice < 1 is 0.16666666666666666\n      Taking [2] and rolling 1 dice has 0.16666666666666666 chance to win\n      Taking [2, 2] and rolling 0 dice has 0 chance to win\n    We now know the roll [2, 2] => 2 2 < 3 has 0.16666666666666666 chance to win\n    Finding probability of winning [2, 3] => 3 2 < 3\n      Taking [3] and rolling 1 dice has 0.5 chance to win\n      Taking [3, 2] and rolling 0 dice has 1 chance to win\n    We now know the roll [2, 3] => 3 2 < 3 has 1 chance to win\n    Finding probability of winning [2, 4] => 2 4 < 3\n      Taking [2] and rolling 1 dice has 0.16666666666666666 chance to win\n      Taking [2, 4] and rolling 0 dice has 0 chance to win\n    We now know the roll [2, 4] => 2 4 < 3 has 0.16666666666666666 chance to win\n    Finding probability of winning [2, 5] => 2 5 < 3\n      Taking [2] and rolling 1 dice has 0.16666666666666666 chance to win\n      Taking [2, 5] and rolling 0 dice has 0 chance to win\n    We now know the roll [2, 5] => 2 5 < 3 has 0.16666666666666666 chance to win\n    Finding probability of winning [2, 6] => 2 6 < 3\n      Taking [2] and rolling 1 dice has 0.16666666666666666 chance to win\n      Taking [2, 6] and rolling 0 dice has 0 chance to win\n    We now know the roll [2, 6] => 2 6 < 3 has 0.16666666666666666 chance to win\n    We already know the roll [3, 1] => 3 1 < 3 has 1 chance to win\n    We already know the roll [3, 2] => 3 2 < 3 has 1 chance to win\n    Finding probability of winning [3, 3] => 3 3 < 3\n      Taking [3] and rolling 1 dice has 0.5 chance to win\n      Taking [3, 3] and rolling 0 dice has 1 chance to win\n    We now know the roll [3, 3] => 3 3 < 3 has 1 chance to win\n    Finding probability of winning [3, 4] => 3 4 < 3\n      Taking [3] and rolling 1 dice has 0.5 chance to win\n      Taking [3, 4] and rolling 0 dice has 0 chance to win\n    We now know the roll [3, 4] => 3 4 < 3 has 0.5 chance to win\n    Finding probability of winning [3, 5] => 3 5 < 3\n      Taking [3] and rolling 1 dice has 0.5 chance to win\n      Taking [3, 5] and rolling 0 dice has 0 chance to win\n    We now know the roll [3, 5] => 3 5 < 3 has 0.5 chance to win\n    Finding probability of winning [3, 6] => 3 6 < 3\n      Taking [3] and rolling 1 dice has 0.5 chance to win\n      Taking [3, 6] and rolling 0 dice has 0 chance to win\n    We now know the roll [3, 6] => 3 6 < 3 has 0.5 chance to win\n    We already know the roll [4, 1] => 1 4 < 3 has 0.3333333333333333 chance to win\n    We already know the roll [4, 2] => 2 4 < 3 has 0.16666666666666666 chance to win\n    We already know the roll [4, 3] => 3 4 < 3 has 0.5 chance to win\n    Finding probability of winning [4, 4] => 4 4 < 3\n      Taking [4] and rolling 1 dice has 0 chance to win\n      Taking [4, 4] and rolling 0 dice has 0 chance to win\n    We now know the roll [4, 4] => 4 4 < 3 has 0 chance to win\n    Finding probability of winning [4, 5] => 4 5 < 3\n      Taking [4] and rolling 1 dice has 0 chance to win\n      Taking [4, 5] and rolling 0 dice has 0 chance to win\n    We now know the roll [4, 5] => 4 5 < 3 has 0 chance to win\n    Finding probability of winning [4, 6] => 4 6 < 3\n      Taking [4] and rolling 1 dice has 0 chance to win\n      Taking [4, 6] and rolling 0 dice has 0 chance to win\n    We now know the roll [4, 6] => 4 6 < 3 has 0 chance to win\n    We already know the roll [5, 1] => 1 5 < 3 has 0.3333333333333333 chance to win\n    We already know the roll [5, 2] => 2 5 < 3 has 0.16666666666666666 chance to win\n    We already know the roll [5, 3] => 3 5 < 3 has 0.5 chance to win\n    We already know the roll [5, 4] => 4 5 < 3 has 0 chance to win\n    Finding probability of winning [5, 5] => 5 5 < 3\n      Taking [5] and rolling 1 dice has 0 chance to win\n      Taking [5, 5] and rolling 0 dice has 0 chance to win\n    We now know the roll [5, 5] => 5 5 < 3 has 0 chance to win\n    Finding probability of winning [5, 6] => 5 6 < 3\n      Taking [5] and rolling 1 dice has 0 chance to win\n      Taking [5, 6] and rolling 0 dice has 0 chance to win\n    We now know the roll [5, 6] => 5 6 < 3 has 0 chance to win\n    We already know the roll [6, 1] => 1 6 < 3 has 0.3333333333333333 chance to win\n    We already know the roll [6, 2] => 2 6 < 3 has 0.16666666666666666 chance to win\n    We already know the roll [6, 3] => 3 6 < 3 has 0.5 chance to win\n    We already know the roll [6, 4] => 4 6 < 3 has 0 chance to win\n    We already know the roll [6, 5] => 5 6 < 3 has 0 chance to win\n    Finding probability of winning [6, 6] => 6 6 < 3\n      Taking [6] and rolling 1 dice has 0 chance to win\n      Taking [6, 6] and rolling 0 dice has 0 chance to win\n    We now know the roll [6, 6] => 6 6 < 3 has 0 chance to win\n  We now know probability of winning 2 fresh dice < 3 is 0.35648148148148157\n  Taking [3] and rolling 2 dice has 0.35648148148148157 chance to win\n  Taking [3, 1] and rolling 1 dice has 0.3333333333333333 chance to win\n  Taking [3, 1, 6] and rolling 0 dice has 0 chance to win\nWe now know the roll [3, 1, 6] => 3 1 6 < 3 has 0.35648148148148157 chance to win\n",
          "output_type": "stream"
        }
      ]
    },
    {
      "cell_type": "markdown",
      "source": "Does this result generalize? As it turns out, you should actually only reroll both if you're within 3 of the number you're trying to beat. Otherwise, with a large enough safety margin, you're better off on average just keeping the 1 and rerolling the other die:",
      "metadata": {}
    },
    {
      "cell_type": "code",
      "source": "probability.debug = False\n# sanity check: with 2 fresh dice rolls, there's 36 possibilities. 1 of them involves beating 1\n# immediately (the 3, 3 combo). 10 of them (first roll 3, second roll not 3 -- and vice versa)\n# allow for a second turn, which absolutely must be a 3. There's a 1/6th chance of that happening\n# on the second roll, so that's 10 / 6 = 1.666... weighted possibility for the single 3's to\n# succeed. Add that to the 1 from the 3, 3 combo and you have 2.666... Divide by 36 for all\n# possibilities to get 0.07407...\nassert percentage(probability.p_beat(1, 2)) == \"7.41%\"\n\nfor goal in range(8, 0, -1):\n    take_one = percentage(probability.p_beat(goal - 1, 1))\n    dont_take = percentage(probability.p_beat(goal, 2))\n    print(f\"Beating {goal} by taking the 1: {take_one}; beating {goal} by rerolling both: {dont_take}\")",
      "metadata": {
        "trusted": true
      },
      "execution_count": 11,
      "outputs": [
        {
          "name": "stdout",
          "text": "Beating 8 by taking the 1: 100.00%; beating 8 by rerolling both: 86.11%\nBeating 7 by taking the 1: 83.33%; beating 7 by rerolling both: 80.56%\nBeating 6 by taking the 1: 66.67%; beating 6 by rerolling both: 68.06%\nBeating 5 by taking the 1: 50.00%; beating 5 by rerolling both: 56.94%\nBeating 4 by taking the 1: 50.00%; beating 4 by rerolling both: 45.37%\nBeating 3 by taking the 1: 33.33%; beating 3 by rerolling both: 35.65%\nBeating 2 by taking the 1: 16.67%; beating 2 by rerolling both: 19.91%\nBeating 1 by taking the 1: 0.00%; beating 1 by rerolling both: 7.41%\n",
          "output_type": "stream"
        }
      ]
    },
    {
      "cell_type": "markdown",
      "source": "Let's look at the chance of beating a number with a fresh turn (all 5 rolls). Turns out getting all 3's is not that crazy impossible.",
      "metadata": {}
    },
    {
      "cell_type": "code",
      "source": "for goal in range(10, 0, -1):\n    chance = percentage(probability.p_beat(goal, 5))\n    print(f\"Chance of beating {goal} with a fresh turn: {chance}\")",
      "metadata": {
        "trusted": true
      },
      "execution_count": 12,
      "outputs": [
        {
          "name": "stdout",
          "text": "Chance of beating 10 with a fresh turn: 87.64%\nChance of beating 9 with a fresh turn: 81.16%\nChance of beating 8 with a fresh turn: 72.45%\nChance of beating 7 with a fresh turn: 61.89%\nChance of beating 6 with a fresh turn: 49.93%\nChance of beating 5 with a fresh turn: 38.23%\nChance of beating 4 with a fresh turn: 26.71%\nChance of beating 3 with a fresh turn: 16.21%\nChance of beating 2 with a fresh turn: 7.30%\nChance of beating 1 with a fresh turn: 2.11%\n",
          "output_type": "stream"
        }
      ]
    },
    {
      "cell_type": "markdown",
      "source": "So with that in mind, if we've already beat the previous record, what score should we aim for in order to beat the players coming after us? Turns out, it really depends on the number of players there are. With 4 players, you have a decent chance of winning with just a score of 4, but with 8 players, you'd probably want to go for at most 3.\n\n(In this table, $s$ represents the score you're ending your turn with and $p$ represents the number of players going after you. If there's no players because you're the last one, then of course you will always win.)",
      "metadata": {}
    },
    {
      "cell_type": "code",
      "source": "class WinningCalculator(DiceCalculator):\n    def __init__(self, config, probability_calculator=None):\n        super().__init__(config)\n        self.probability_calculator = probability_calculator or ProbabilityCalculator(config)\n    \n    def p_winning(self, your_score, num_players):\n        p_one_player_beating_you = self.probability_calculator.p_beat(your_score, self.config.num_dice)\n        p_you_beat_one_player = 1 - p_one_player_beating_you\n        p_you_beat_every_player = p_you_beat_one_player ** num_players\n        return p_you_beat_every_player\n\n\nwinning_calculator = WinningCalculator(DEFAULT_CONFIG, probability)\nassert percentage(winning_calculator.p_winning(1, 1)) == \"97.89%\"\nassert percentage(winning_calculator.p_winning(1, 2)) == \"95.83%\"\n\ndef print_table(table):\n    for row in table:\n        print(\"\".join([cell.ljust(10) for cell in row]))\n\n\npercentages_header = [f\"p={p}\" for p in range(9)]\ns_p_table = [[\"s/p\"] + percentages_header]\nfor score in range(10, -1, -1):\n    percentages = [percentage(winning_calculator.p_winning(score, n_players)) for n_players in range(9)]\n    s_p_table.append([f\"s={score}\"] + percentages)\nprint_table(s_p_table)",
      "metadata": {
        "trusted": true
      },
      "execution_count": 13,
      "outputs": [
        {
          "name": "stdout",
          "text": "s/p       p=0       p=1       p=2       p=3       p=4       p=5       p=6       p=7       p=8       \ns=10      100.00%   12.36%    1.53%     0.19%     0.02%     0.00%     0.00%     0.00%     0.00%     \ns=9       100.00%   18.84%    3.55%     0.67%     0.13%     0.02%     0.00%     0.00%     0.00%     \ns=8       100.00%   27.55%    7.59%     2.09%     0.58%     0.16%     0.04%     0.01%     0.00%     \ns=7       100.00%   38.11%    14.52%    5.53%     2.11%     0.80%     0.31%     0.12%     0.04%     \ns=6       100.00%   50.07%    25.07%    12.55%    6.28%     3.15%     1.57%     0.79%     0.39%     \ns=5       100.00%   61.77%    38.15%    23.57%    14.56%    8.99%     5.55%     3.43%     2.12%     \ns=4       100.00%   73.29%    53.72%    39.38%    28.86%    21.15%    15.50%    11.36%    8.33%     \ns=3       100.00%   83.79%    70.21%    58.83%    49.30%    41.31%    34.61%    29.00%    24.30%    \ns=2       100.00%   92.70%    85.93%    79.66%    73.84%    68.45%    63.45%    58.82%    54.52%    \ns=1       100.00%   97.89%    95.83%    93.81%    91.83%    89.90%    88.00%    86.15%    84.33%    \ns=0       100.00%   100.00%   100.00%   100.00%   100.00%   100.00%   100.00%   100.00%   100.00%   \n",
          "output_type": "stream"
        }
      ]
    },
    {
      "cell_type": "markdown",
      "source": "The final question is, how do we decide what cut to make for a specific turn? Ideally we'd balance out the probability of not beating out the players before us with the probability of being beaten out by the players after us. For simplicity though, let's just first focus on beating out the players before us, and then optimize for the players after us.",
      "metadata": {}
    },
    {
      "cell_type": "code",
      "source": "class TurnCalculator(DiceCalculator):\n    def __init__(self, config, winning_calculator=None):\n        super().__init__(config)\n        self.winning_calculator = winning_calculator or WinningCalculator(config)\n        self.probability_calculator = self.winning_calculator.probability_calculator\n        self._p_win_or_tie_cache = {}\n        self._choose_n_cache = {}\n    \n    def p_win_or_tie(self, score_to_tie, score_so_far, dice_remaining, players_after, indent=0):\n        if indent > 20:\n            raise \"Too recursive\"\n        if score_to_tie is not None and score_to_tie < score_so_far:\n            return 0\n        if dice_remaining == 0:\n            chance = self.winning_calculator.p_winning(score_so_far, players_after)\n            self._debug(indent, f\"With a final score of {score_so_far}, our chance of beating {players_after} players after us is {chance}\")\n            return chance\n        \n        cache = self._p_win_or_tie_cache\n        roll_key = f\"{score_to_tie} > {score_so_far} + {dice_remaining} dice >= {players_after} players\"\n        if roll_key in cache:\n            result = cache[roll_key]\n            self._debug(indent, f\"We already know probability of winning {roll_key} is {result}\")\n            return result\n        \n        self._debug(indent, f\"Finding probability of winning {roll_key}\")\n\n        total = 0\n        count = 0\n        for roll in self._rolls(dice_remaining):\n            n, new_score = self.choose_n(\n                score_to_tie,\n                score_so_far,\n                roll,\n                players_after,\n                indent + 1\n            )\n            total += self.p_win_or_tie(\n                score_to_tie,\n                new_score,\n                dice_remaining - n,\n                players_after,\n                indent + 1\n            )\n            count += 1\n        result = total / count\n        \n        cache[roll_key] = result\n        self._debug(indent, f\"We now know probability of winning {roll_key} is {result}\")\n        return result\n    \n    def choose_n(self, score_to_tie, score_so_far, current_roll, players_after, indent=0):\n        if score_to_tie is not None and score_to_tie < score_so_far:\n            # impossible to win, give up now\n            return len(current_roll), score_so_far + worth_roll(current_roll)\n        if current_roll == 0:\n            return 0, score_so_far\n        \n        cache = self._choose_n_cache\n        ordered_roll_str = self._roll_key(current_roll)\n        roll_key = f\"{score_to_tie} >= {score_so_far} + {ordered_roll_str} >= {players_after} players\"\n        if roll_key in cache:\n            result = cache[roll_key]\n            self._debug(indent, f\"We already know to choose {result} to tie {roll_key}\")\n            return result\n        \n        self._debug(indent, f\"Making decision for {roll_key}\")\n        n = None\n        new_score = None\n        best_p = -1  # probabilities can never be zero, so any probability will override this\n        for taken, taken_value, reroll_count in self._possible_cuts(current_roll):\n            p_beat_on_reroll = self.p_win_or_tie(\n                score_to_tie,\n                score_so_far + taken_value,\n                reroll_count,\n                players_after,\n                indent + 1\n            )\n            self._debug(\n                indent + 1,\n                f\"Taking {taken} and rolling {reroll_count} dice has {p_beat_on_reroll} chance to win\"\n            )\n            if p_beat_on_reroll > best_p:\n                self._debug(indent + 1, f\"{p_beat_on_reroll} > {best_p}\")\n                best_p = p_beat_on_reroll\n                n = len(taken)\n                new_score = score_so_far + taken_value\n        \n        result = (n, new_score)\n        cache[roll_key] = result\n        self._debug(indent, f\"We now know to choose {result} to beat {roll_key}\")\n        return result\n    \n\nturn_calculator = TurnCalculator(DEFAULT_CONFIG, winning_calculator)\nturn_calculator.debug = False\nassert turn_calculator.p_win_or_tie(\n    score_to_tie=None,\n    score_so_far=5,\n    dice_remaining=0,\n    players_after=0\n) == 1\nassert turn_calculator.p_win_or_tie(\n    score_to_tie=3,\n    score_so_far=5,\n    dice_remaining=4,\n    players_after=0\n) == 0\n# 2.11% of getting perfect 3's, 7.30% of getting a score below 2 => 7.30 - 2.11 = 5.19% chance of\n# scoring exactly 1. If you score exactly 1, there's a 91.83% chance the next 4 players won't beat\n# you. That's a 2.11% chance of getting perfect 3's and winning for sure, and a\n# 5.19 * 91.83% = 4.77% chance of winning with a score of exactly 1. In total, that's ~6.8%\n# chance of winning\nassert percentage(turn_calculator.p_win_or_tie(\n    score_to_tie=1,\n    score_so_far=0,\n    dice_remaining=5,\n    players_after=4\n)) == \"6.85%\"",
      "metadata": {
        "trusted": true
      },
      "execution_count": 14,
      "outputs": []
    },
    {
      "cell_type": "markdown",
      "source": "Let's validate our initial intuitions. If you're the last player and you can win right now, then there's no point in not picking everything, even if the score is horrendous, if it lets you win:",
      "metadata": {}
    },
    {
      "cell_type": "code",
      "source": "assert turn_calculator.choose_n(\n    score_to_tie=8,\n    score_so_far=0,\n    current_roll=[3, 1, 3, 2, 4],\n    players_after=0\n) == (5, 7)",
      "metadata": {
        "trusted": true
      },
      "execution_count": 15,
      "outputs": []
    },
    {
      "cell_type": "markdown",
      "source": "On the other hand, if there's lots of players after you, then you only pick the 3's:",
      "metadata": {}
    },
    {
      "cell_type": "code",
      "source": "assert turn_calculator.choose_n(\n    score_to_tie=8,\n    score_so_far=0,\n    current_roll=[3, 1, 3, 2, 4],\n    players_after=10\n) == (2, 0)",
      "metadata": {
        "trusted": true
      },
      "execution_count": 16,
      "outputs": []
    },
    {
      "cell_type": "markdown",
      "source": "Similarly, if you're the last player but the score to tie is really low, then you only pick the 3's as well:",
      "metadata": {}
    },
    {
      "cell_type": "code",
      "source": "assert turn_calculator.choose_n(\n    score_to_tie=2,\n    score_so_far=0,\n    current_roll=[3, 1, 3, 2, 4],\n    players_after=0\n) == (2, 0)",
      "metadata": {
        "trusted": true
      },
      "execution_count": 17,
      "outputs": []
    },
    {
      "cell_type": "markdown",
      "source": "### Putting it all together\n\nLet's put all this in action for the most optimal bot possible:",
      "metadata": {}
    },
    {
      "cell_type": "code",
      "source": "class OptimalBot(Player):    \n    def choose_n(self):\n        score_to_tie = self.round.lowest_score if self.round.lowest_score != sys.maxsize else None\n        score_so_far = worth_roll(self.turn.finalized_dice)\n        current_roll = self.turn.last_roll\n        # -1 because this bot is one of the remaining players\n        players_after = self.round.players_remaining() - 1\n        # every bot shares the same turn calculator for efficiency because they're all using the\n        # same strategy\n        n, _ = turn_calculator.choose_n(\n            score_to_tie=score_to_tie,\n            score_so_far=score_so_far,\n            current_roll=current_roll,\n            players_after=players_after,\n        )\n        return n\n\n\nLOG_GAMEPLAY=True\nRoundState(OptimalBot.create(3), DEFAULT_CONFIG).play()",
      "metadata": {
        "trusted": true
      },
      "execution_count": 18,
      "outputs": [
        {
          "name": "stdout",
          "text": "Starting round with 3 players\nOptimalBot 1 starting turn\nOptimalBot 1 rolled [6, 4, 4, 1, 1]\nOptimalBot 1 chose to keep 1 dice. Finalized dice: [1]. Running score: 1\nOptimalBot 1 rolled [1, 5, 4, 3]\nOptimalBot 1 chose to keep 1 dice. Finalized dice: [1, 3]. Running score: 1\nOptimalBot 1 rolled [5, 4, 3]\nOptimalBot 1 chose to keep 1 dice. Finalized dice: [1, 3, 3]. Running score: 1\nOptimalBot 1 rolled [3, 4]\nOptimalBot 1 chose to keep 1 dice. Finalized dice: [1, 3, 3, 3]. Running score: 1\nOptimalBot 1 rolled [6]\nOptimalBot 1 chose to keep 1 dice. Finalized dice: [1, 3, 3, 3, 6]. Running score: 7\nOptimalBot 1 is now winning with a score of 7\nOptimalBot 2 starting turn\nOptimalBot 2 rolled [1, 1, 5, 2, 6]\nOptimalBot 2 chose to keep 1 dice. Finalized dice: [1]. Running score: 1\nOptimalBot 2 rolled [1, 5, 6, 1]\nOptimalBot 2 chose to keep 1 dice. Finalized dice: [1, 1]. Running score: 2\nOptimalBot 2 rolled [4, 5, 4]\nOptimalBot 2 chose to keep 1 dice. Finalized dice: [1, 1, 4]. Running score: 6\nOptimalBot 2 rolled [6, 1]\nOptimalBot 2 chose to keep 1 dice. Finalized dice: [1, 1, 4, 1]. Running score: 7\nOptimalBot 2 rolled [6]\nOptimalBot 2 chose to keep 1 dice. Finalized dice: [1, 1, 4, 1, 6]. Running score: 13\nOptimalBot 2 lost with a score of 13\nOptimalBot 3 starting turn\nOptimalBot 3 rolled [5, 4, 3, 2, 1]\nOptimalBot 3 chose to keep 1 dice. Finalized dice: [3]. Running score: 0\nOptimalBot 3 rolled [1, 6, 1, 5]\nOptimalBot 3 chose to keep 1 dice. Finalized dice: [3, 1]. Running score: 1\nOptimalBot 3 rolled [4, 3, 3]\nOptimalBot 3 chose to keep 2 dice. Finalized dice: [3, 1, 3, 3]. Running score: 1\nOptimalBot 3 rolled [2]\nOptimalBot 3 chose to keep 1 dice. Finalized dice: [3, 1, 3, 3, 2]. Running score: 3\nOptimalBot 3 is now winning with a score of 3\nOptimalBot 3 won with a score of 3\n",
          "output_type": "stream"
        }
      ]
    },
    {
      "cell_type": "markdown",
      "source": "Make sure it handles a decreasing number of players through the round:",
      "metadata": {}
    },
    {
      "cell_type": "code",
      "source": "import re\n\ndef search_calculator_cache(turn_calculator, regex, keep):\n    for k, (n, _) in turn_calculator._choose_n_cache.items():\n        if n == keep and re.match(regex, k):\n            print(f\"Choose {n} for {k}\")\n            return k, n\n\n# no key exists for 3 players because there's 3 players in total, so there will never be a player\n# with 3 players after them\nassert search_calculator_cache(turn_calculator, \".*2 players$\", keep=1) is not None\nassert search_calculator_cache(turn_calculator, \".*1 players$\", keep=1) is not None\nassert search_calculator_cache(turn_calculator, \".*0 players$\", keep=1) is not None",
      "metadata": {
        "trusted": true
      },
      "execution_count": 19,
      "outputs": [
        {
          "name": "stdout",
          "text": "Choose 1 for None >= 4 + 1 >= 2 players\nChoose 1 for 7 >= 4 + 1 >= 1 players\nChoose 1 for 8 >= 3 + 1 >= 0 players\n",
          "output_type": "stream"
        }
      ]
    },
    {
      "cell_type": "markdown",
      "source": "There's only one way to know if it actually beats out the previous strategy of always only keeping 3's:",
      "metadata": {}
    },
    {
      "cell_type": "code",
      "source": "LOG_GAMEPLAY = False\nplayers = [p for pairs in zip(Only3sBot.create(3), OptimalBot.create(3)) for p in pairs]\nGame(players, DEFAULT_CONFIG).play(num_rounds=10000)",
      "metadata": {
        "trusted": true
      },
      "execution_count": 20,
      "outputs": [
        {
          "name": "stdout",
          "text": "Played 10000 rounds\nOptimalBot 3 won 2512 rounds\nOptimalBot 2 won 2383 rounds\nOptimalBot 1 won 2299 rounds\nOnly3sBot 3 won 1909 rounds\nOnly3sBot 1 won 1830 rounds\nOnly3sBot 2 won 1767 rounds\n",
          "output_type": "stream"
        }
      ]
    },
    {
      "cell_type": "markdown",
      "source": "So it does! Moreover, it appears that the last player is in the best position, and only keeping 3's is already such a great rule of thumb.\n\nOut of curiosity, does it ever make sense to voluntarily keep a 2 even when there are people after you?",
      "metadata": {}
    },
    {
      "cell_type": "code",
      "source": "search_calculator_cache(turn_calculator, \".*\\+ 3 2.*>= 4 players$\", keep=2)",
      "metadata": {
        "trusted": true
      },
      "execution_count": 21,
      "outputs": [
        {
          "name": "stdout",
          "text": "Choose 2 for 9 >= 2 + 3 2 >= 4 players\n",
          "output_type": "stream"
        },
        {
          "execution_count": 21,
          "output_type": "execute_result",
          "data": {
            "text/plain": "('9 >= 2 + 3 2 >= 4 players', 2)"
          },
          "metadata": {}
        }
      ]
    },
    {
      "cell_type": "markdown",
      "source": "Apparently so! If there's 4 players after you, and you currently have a score of 2, but you can end your turn right now, then you should take the 2. But absolutely not if you're going to keep rolling.",
      "metadata": {}
    },
    {
      "cell_type": "code",
      "source": "search_calculator_cache(turn_calculator, \".*\\+ 3 2 \\d.*>= 1 players$\", keep=2)",
      "metadata": {
        "trusted": true
      },
      "execution_count": 22,
      "outputs": []
    },
    {
      "cell_type": "markdown",
      "source": "Sometimes (but not always), it makes sense to voluntarily keep a 1 -- even two 1's, and even if you're still rerolling after this:",
      "metadata": {}
    },
    {
      "cell_type": "code",
      "source": "search_calculator_cache(turn_calculator, \".*\\+ 3 1 \\d.*>= 1 players$\", keep=2)\nsearch_calculator_cache(turn_calculator, \".*\\+ 3 1 1.*>= 1 players$\", keep=3)\nsearch_calculator_cache(turn_calculator, \".*\\+ 3 1 1 \\d.*>= 1 players$\", keep=3)\nsearch_calculator_cache(turn_calculator, \".*\\+ 1 1 \\d.*>= 1 players$\", keep=2)",
      "metadata": {
        "trusted": true
      },
      "execution_count": 24,
      "outputs": [
        {
          "name": "stdout",
          "text": "Choose 2 for 7 >= 2 + 3 1 4 >= 1 players\nChoose 3 for 7 >= 2 + 3 1 1 >= 1 players\nChoose 2 for 7 >= 1 + 1 1 4 >= 1 players\n",
          "output_type": "stream"
        },
        {
          "execution_count": 24,
          "output_type": "execute_result",
          "data": {
            "text/plain": "('7 >= 1 + 1 1 4 >= 1 players', 2)"
          },
          "metadata": {}
        }
      ]
    },
    {
      "cell_type": "markdown",
      "source": "## Summary\n\n- In the situation where there's 2 dice left and one of them is a 1: While it's true that we're *slightly* more likely to not regret rerolling both dice, you should only do so if you're pressured to beat a score that's within 3 of your current one. Otherwise, it's actually better to take the 1 on average (so our intuitions for distrusting the math sometimes was right)\n- Sometimes (but not always), it makes sense to even keep multiple 1's, even if you're still rolling afterwards\n- 4 is a good score to aim for when you have 4 or 5 players, but we had 8 players, so it's better to aim for 3 or even 2\n- There's a 2% chance of rolling all 3's, which is actually not that crazy low\n- Each spot down in turn order seems to confer an approximately 2% advantage, so the 5th player to take their turn after you has ~10% advantage on you, which explains why there's the rule that the winner is supposed to move first next round, to keep it even",
      "metadata": {}
    },
    {
      "cell_type": "code",
      "source": "",
      "metadata": {},
      "execution_count": null,
      "outputs": []
    }
  ]
}